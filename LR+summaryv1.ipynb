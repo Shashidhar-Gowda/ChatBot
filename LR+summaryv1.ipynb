{
  "nbformat": 4,
  "nbformat_minor": 0,
  "metadata": {
    "colab": {
      "provenance": [],
      "authorship_tag": "ABX9TyNIvcZu110XWVg5HlBOfREL",
      "include_colab_link": true
    },
    "kernelspec": {
      "name": "python3",
      "display_name": "Python 3"
    },
    "language_info": {
      "name": "python"
    }
  },
  "cells": [
    {
      "cell_type": "markdown",
      "metadata": {
        "id": "view-in-github",
        "colab_type": "text"
      },
      "source": [
        "<a href=\"https://colab.research.google.com/github/Shashidhar-Gowda/ChatBot/blob/mlds/LR%2Bsummaryv1.ipynb\" target=\"_parent\"><img src=\"https://colab.research.google.com/assets/colab-badge.svg\" alt=\"Open In Colab\"/></a>"
      ]
    },
    {
      "cell_type": "code",
      "execution_count": 1,
      "metadata": {
        "colab": {
          "base_uri": "https://localhost:8080/"
        },
        "id": "k8N8YKamnKXA",
        "outputId": "6e476dcc-26d5-4eb0-ebf8-5a32e0f175c4"
      },
      "outputs": [
        {
          "output_type": "stream",
          "name": "stdout",
          "text": [
            "Requirement already satisfied: langchain in /usr/local/lib/python3.11/dist-packages (0.3.22)\n",
            "Collecting langchain-community\n",
            "  Downloading langchain_community-0.3.21-py3-none-any.whl.metadata (2.4 kB)\n",
            "Requirement already satisfied: scikit-learn in /usr/local/lib/python3.11/dist-packages (1.6.1)\n",
            "Requirement already satisfied: pandas in /usr/local/lib/python3.11/dist-packages (2.2.2)\n",
            "Collecting groq\n",
            "  Downloading groq-0.22.0-py3-none-any.whl.metadata (15 kB)\n",
            "Requirement already satisfied: langchain-core<1.0.0,>=0.3.49 in /usr/local/lib/python3.11/dist-packages (from langchain) (0.3.50)\n",
            "Requirement already satisfied: langchain-text-splitters<1.0.0,>=0.3.7 in /usr/local/lib/python3.11/dist-packages (from langchain) (0.3.7)\n",
            "Requirement already satisfied: langsmith<0.4,>=0.1.17 in /usr/local/lib/python3.11/dist-packages (from langchain) (0.3.23)\n",
            "Requirement already satisfied: pydantic<3.0.0,>=2.7.4 in /usr/local/lib/python3.11/dist-packages (from langchain) (2.11.2)\n",
            "Requirement already satisfied: SQLAlchemy<3,>=1.4 in /usr/local/lib/python3.11/dist-packages (from langchain) (2.0.40)\n",
            "Requirement already satisfied: requests<3,>=2 in /usr/local/lib/python3.11/dist-packages (from langchain) (2.32.3)\n",
            "Requirement already satisfied: PyYAML>=5.3 in /usr/local/lib/python3.11/dist-packages (from langchain) (6.0.2)\n",
            "Collecting langchain-core<1.0.0,>=0.3.49 (from langchain)\n",
            "  Downloading langchain_core-0.3.51-py3-none-any.whl.metadata (5.9 kB)\n",
            "Collecting langchain\n",
            "  Downloading langchain-0.3.23-py3-none-any.whl.metadata (7.8 kB)\n",
            "Requirement already satisfied: aiohttp<4.0.0,>=3.8.3 in /usr/local/lib/python3.11/dist-packages (from langchain-community) (3.11.15)\n",
            "Requirement already satisfied: tenacity!=8.4.0,<10,>=8.1.0 in /usr/local/lib/python3.11/dist-packages (from langchain-community) (9.1.2)\n",
            "Collecting dataclasses-json<0.7,>=0.5.7 (from langchain-community)\n",
            "  Downloading dataclasses_json-0.6.7-py3-none-any.whl.metadata (25 kB)\n",
            "Collecting pydantic-settings<3.0.0,>=2.4.0 (from langchain-community)\n",
            "  Downloading pydantic_settings-2.8.1-py3-none-any.whl.metadata (3.5 kB)\n",
            "Collecting httpx-sse<1.0.0,>=0.4.0 (from langchain-community)\n",
            "  Downloading httpx_sse-0.4.0-py3-none-any.whl.metadata (9.0 kB)\n",
            "Requirement already satisfied: numpy<3,>=1.26.2 in /usr/local/lib/python3.11/dist-packages (from langchain-community) (2.0.2)\n",
            "Collecting langchain-text-splitters<1.0.0,>=0.3.8 (from langchain)\n",
            "  Downloading langchain_text_splitters-0.3.8-py3-none-any.whl.metadata (1.9 kB)\n",
            "Requirement already satisfied: scipy>=1.6.0 in /usr/local/lib/python3.11/dist-packages (from scikit-learn) (1.14.1)\n",
            "Requirement already satisfied: joblib>=1.2.0 in /usr/local/lib/python3.11/dist-packages (from scikit-learn) (1.4.2)\n",
            "Requirement already satisfied: threadpoolctl>=3.1.0 in /usr/local/lib/python3.11/dist-packages (from scikit-learn) (3.6.0)\n",
            "Requirement already satisfied: python-dateutil>=2.8.2 in /usr/local/lib/python3.11/dist-packages (from pandas) (2.8.2)\n",
            "Requirement already satisfied: pytz>=2020.1 in /usr/local/lib/python3.11/dist-packages (from pandas) (2025.2)\n",
            "Requirement already satisfied: tzdata>=2022.7 in /usr/local/lib/python3.11/dist-packages (from pandas) (2025.2)\n",
            "Requirement already satisfied: anyio<5,>=3.5.0 in /usr/local/lib/python3.11/dist-packages (from groq) (4.9.0)\n",
            "Requirement already satisfied: distro<2,>=1.7.0 in /usr/local/lib/python3.11/dist-packages (from groq) (1.9.0)\n",
            "Requirement already satisfied: httpx<1,>=0.23.0 in /usr/local/lib/python3.11/dist-packages (from groq) (0.28.1)\n",
            "Requirement already satisfied: sniffio in /usr/local/lib/python3.11/dist-packages (from groq) (1.3.1)\n",
            "Requirement already satisfied: typing-extensions<5,>=4.10 in /usr/local/lib/python3.11/dist-packages (from groq) (4.13.1)\n",
            "Requirement already satisfied: aiohappyeyeballs>=2.3.0 in /usr/local/lib/python3.11/dist-packages (from aiohttp<4.0.0,>=3.8.3->langchain-community) (2.6.1)\n",
            "Requirement already satisfied: aiosignal>=1.1.2 in /usr/local/lib/python3.11/dist-packages (from aiohttp<4.0.0,>=3.8.3->langchain-community) (1.3.2)\n",
            "Requirement already satisfied: attrs>=17.3.0 in /usr/local/lib/python3.11/dist-packages (from aiohttp<4.0.0,>=3.8.3->langchain-community) (25.3.0)\n",
            "Requirement already satisfied: frozenlist>=1.1.1 in /usr/local/lib/python3.11/dist-packages (from aiohttp<4.0.0,>=3.8.3->langchain-community) (1.5.0)\n",
            "Requirement already satisfied: multidict<7.0,>=4.5 in /usr/local/lib/python3.11/dist-packages (from aiohttp<4.0.0,>=3.8.3->langchain-community) (6.2.0)\n",
            "Requirement already satisfied: propcache>=0.2.0 in /usr/local/lib/python3.11/dist-packages (from aiohttp<4.0.0,>=3.8.3->langchain-community) (0.3.1)\n",
            "Requirement already satisfied: yarl<2.0,>=1.17.0 in /usr/local/lib/python3.11/dist-packages (from aiohttp<4.0.0,>=3.8.3->langchain-community) (1.18.3)\n",
            "Requirement already satisfied: idna>=2.8 in /usr/local/lib/python3.11/dist-packages (from anyio<5,>=3.5.0->groq) (3.10)\n",
            "Collecting marshmallow<4.0.0,>=3.18.0 (from dataclasses-json<0.7,>=0.5.7->langchain-community)\n",
            "  Downloading marshmallow-3.26.1-py3-none-any.whl.metadata (7.3 kB)\n",
            "Collecting typing-inspect<1,>=0.4.0 (from dataclasses-json<0.7,>=0.5.7->langchain-community)\n",
            "  Downloading typing_inspect-0.9.0-py3-none-any.whl.metadata (1.5 kB)\n",
            "Requirement already satisfied: certifi in /usr/local/lib/python3.11/dist-packages (from httpx<1,>=0.23.0->groq) (2025.1.31)\n",
            "Requirement already satisfied: httpcore==1.* in /usr/local/lib/python3.11/dist-packages (from httpx<1,>=0.23.0->groq) (1.0.7)\n",
            "Requirement already satisfied: h11<0.15,>=0.13 in /usr/local/lib/python3.11/dist-packages (from httpcore==1.*->httpx<1,>=0.23.0->groq) (0.14.0)\n",
            "Requirement already satisfied: jsonpatch<2.0,>=1.33 in /usr/local/lib/python3.11/dist-packages (from langchain-core<1.0.0,>=0.3.49->langchain) (1.33)\n",
            "Requirement already satisfied: packaging<25,>=23.2 in /usr/local/lib/python3.11/dist-packages (from langchain-core<1.0.0,>=0.3.49->langchain) (24.2)\n",
            "Requirement already satisfied: orjson<4.0.0,>=3.9.14 in /usr/local/lib/python3.11/dist-packages (from langsmith<0.4,>=0.1.17->langchain) (3.10.16)\n",
            "Requirement already satisfied: requests-toolbelt<2.0.0,>=1.0.0 in /usr/local/lib/python3.11/dist-packages (from langsmith<0.4,>=0.1.17->langchain) (1.0.0)\n",
            "Requirement already satisfied: zstandard<0.24.0,>=0.23.0 in /usr/local/lib/python3.11/dist-packages (from langsmith<0.4,>=0.1.17->langchain) (0.23.0)\n",
            "Requirement already satisfied: annotated-types>=0.6.0 in /usr/local/lib/python3.11/dist-packages (from pydantic<3.0.0,>=2.7.4->langchain) (0.7.0)\n",
            "Requirement already satisfied: pydantic-core==2.33.1 in /usr/local/lib/python3.11/dist-packages (from pydantic<3.0.0,>=2.7.4->langchain) (2.33.1)\n",
            "Requirement already satisfied: typing-inspection>=0.4.0 in /usr/local/lib/python3.11/dist-packages (from pydantic<3.0.0,>=2.7.4->langchain) (0.4.0)\n",
            "Collecting python-dotenv>=0.21.0 (from pydantic-settings<3.0.0,>=2.4.0->langchain-community)\n",
            "  Downloading python_dotenv-1.1.0-py3-none-any.whl.metadata (24 kB)\n",
            "Requirement already satisfied: six>=1.5 in /usr/local/lib/python3.11/dist-packages (from python-dateutil>=2.8.2->pandas) (1.17.0)\n",
            "Requirement already satisfied: charset-normalizer<4,>=2 in /usr/local/lib/python3.11/dist-packages (from requests<3,>=2->langchain) (3.4.1)\n",
            "Requirement already satisfied: urllib3<3,>=1.21.1 in /usr/local/lib/python3.11/dist-packages (from requests<3,>=2->langchain) (2.3.0)\n",
            "Requirement already satisfied: greenlet>=1 in /usr/local/lib/python3.11/dist-packages (from SQLAlchemy<3,>=1.4->langchain) (3.1.1)\n",
            "Requirement already satisfied: jsonpointer>=1.9 in /usr/local/lib/python3.11/dist-packages (from jsonpatch<2.0,>=1.33->langchain-core<1.0.0,>=0.3.49->langchain) (3.0.0)\n",
            "Collecting mypy-extensions>=0.3.0 (from typing-inspect<1,>=0.4.0->dataclasses-json<0.7,>=0.5.7->langchain-community)\n",
            "  Downloading mypy_extensions-1.0.0-py3-none-any.whl.metadata (1.1 kB)\n",
            "Downloading langchain_community-0.3.21-py3-none-any.whl (2.5 MB)\n",
            "\u001b[2K   \u001b[90m━━━━━━━━━━━━━━━━━━━━━━━━━━━━━━━━━━━━━━━━\u001b[0m \u001b[32m2.5/2.5 MB\u001b[0m \u001b[31m26.6 MB/s\u001b[0m eta \u001b[36m0:00:00\u001b[0m\n",
            "\u001b[?25hDownloading langchain-0.3.23-py3-none-any.whl (1.0 MB)\n",
            "\u001b[2K   \u001b[90m━━━━━━━━━━━━━━━━━━━━━━━━━━━━━━━━━━━━━━━━\u001b[0m \u001b[32m1.0/1.0 MB\u001b[0m \u001b[31m35.4 MB/s\u001b[0m eta \u001b[36m0:00:00\u001b[0m\n",
            "\u001b[?25hDownloading groq-0.22.0-py3-none-any.whl (126 kB)\n",
            "\u001b[2K   \u001b[90m━━━━━━━━━━━━━━━━━━━━━━━━━━━━━━━━━━━━━━━━\u001b[0m \u001b[32m126.7/126.7 kB\u001b[0m \u001b[31m7.8 MB/s\u001b[0m eta \u001b[36m0:00:00\u001b[0m\n",
            "\u001b[?25hDownloading dataclasses_json-0.6.7-py3-none-any.whl (28 kB)\n",
            "Downloading httpx_sse-0.4.0-py3-none-any.whl (7.8 kB)\n",
            "Downloading langchain_core-0.3.51-py3-none-any.whl (423 kB)\n",
            "\u001b[2K   \u001b[90m━━━━━━━━━━━━━━━━━━━━━━━━━━━━━━━━━━━━━━━━\u001b[0m \u001b[32m423.3/423.3 kB\u001b[0m \u001b[31m21.0 MB/s\u001b[0m eta \u001b[36m0:00:00\u001b[0m\n",
            "\u001b[?25hDownloading langchain_text_splitters-0.3.8-py3-none-any.whl (32 kB)\n",
            "Downloading pydantic_settings-2.8.1-py3-none-any.whl (30 kB)\n",
            "Downloading marshmallow-3.26.1-py3-none-any.whl (50 kB)\n",
            "\u001b[2K   \u001b[90m━━━━━━━━━━━━━━━━━━━━━━━━━━━━━━━━━━━━━━━━\u001b[0m \u001b[32m50.9/50.9 kB\u001b[0m \u001b[31m2.9 MB/s\u001b[0m eta \u001b[36m0:00:00\u001b[0m\n",
            "\u001b[?25hDownloading python_dotenv-1.1.0-py3-none-any.whl (20 kB)\n",
            "Downloading typing_inspect-0.9.0-py3-none-any.whl (8.8 kB)\n",
            "Downloading mypy_extensions-1.0.0-py3-none-any.whl (4.7 kB)\n",
            "Installing collected packages: python-dotenv, mypy-extensions, marshmallow, httpx-sse, typing-inspect, pydantic-settings, groq, dataclasses-json, langchain-core, langchain-text-splitters, langchain, langchain-community\n",
            "  Attempting uninstall: langchain-core\n",
            "    Found existing installation: langchain-core 0.3.50\n",
            "    Uninstalling langchain-core-0.3.50:\n",
            "      Successfully uninstalled langchain-core-0.3.50\n",
            "  Attempting uninstall: langchain-text-splitters\n",
            "    Found existing installation: langchain-text-splitters 0.3.7\n",
            "    Uninstalling langchain-text-splitters-0.3.7:\n",
            "      Successfully uninstalled langchain-text-splitters-0.3.7\n",
            "  Attempting uninstall: langchain\n",
            "    Found existing installation: langchain 0.3.22\n",
            "    Uninstalling langchain-0.3.22:\n",
            "      Successfully uninstalled langchain-0.3.22\n",
            "Successfully installed dataclasses-json-0.6.7 groq-0.22.0 httpx-sse-0.4.0 langchain-0.3.23 langchain-community-0.3.21 langchain-core-0.3.51 langchain-text-splitters-0.3.8 marshmallow-3.26.1 mypy-extensions-1.0.0 pydantic-settings-2.8.1 python-dotenv-1.1.0 typing-inspect-0.9.0\n"
          ]
        }
      ],
      "source": [
        "pip install langchain langchain-community scikit-learn pandas groq\n"
      ]
    },
    {
      "cell_type": "code",
      "source": [
        "pip install -qU \"langchain[groq]\""
      ],
      "metadata": {
        "id": "KehCBU27nLTO"
      },
      "execution_count": 2,
      "outputs": []
    },
    {
      "cell_type": "code",
      "source": [
        "import getpass\n",
        "import os\n",
        "\n",
        "if not os.environ.get(\"GROQ_API_KEY\"):\n",
        "  os.environ[\"GROQ_API_KEY\"] = getpass.getpass(\"Enter API key for Groq: \")\n",
        "\n",
        "from langchain.chat_models import init_chat_model\n",
        "\n",
        "model = init_chat_model(\"deepseek-r1-distill-llama-70b\", model_provider=\"groq\")"
      ],
      "metadata": {
        "colab": {
          "base_uri": "https://localhost:8080/"
        },
        "id": "R2USAs6Unj1F",
        "outputId": "d44553b8-0f5d-4ab5-e996-c56babc17254"
      },
      "execution_count": 3,
      "outputs": [
        {
          "name": "stdout",
          "output_type": "stream",
          "text": [
            "Enter API key for Groq: ··········\n"
          ]
        }
      ]
    },
    {
      "cell_type": "code",
      "source": [
        "import pandas as pd\n",
        "from sklearn.linear_model import LinearRegression\n",
        "from sklearn.model_selection import train_test_split\n",
        "from sklearn.metrics import r2_score, mean_squared_error\n",
        "\n",
        "def perform_regression(df: pd.DataFrame):\n",
        "    df = df.dropna()\n",
        "    num_cols = df.select_dtypes(include='number').columns.tolist()\n",
        "    if len(num_cols) < 2:\n",
        "        return \"Not enough numerical columns for regression.\"\n",
        "\n",
        "    X = df[num_cols[:-1]]\n",
        "    y = df[num_cols[-1]]\n",
        "\n",
        "    X_train, X_test, y_train, y_test = train_test_split(X, y, test_size=0.2)\n",
        "\n",
        "    model = LinearRegression()\n",
        "    model.fit(X_train, y_train)\n",
        "\n",
        "    y_pred = model.predict(X_test)\n",
        "\n",
        "    results = {\n",
        "        \"coefficients\": dict(zip(X.columns, model.coef_)),\n",
        "        \"intercept\": model.intercept_,\n",
        "        \"r2_score\": r2_score(y_test, y_pred),\n",
        "        \"mse\": mean_squared_error(y_test, y_pred)\n",
        "    }\n",
        "\n",
        "    return results\n"
      ],
      "metadata": {
        "id": "6xq0atdmnuYv"
      },
      "execution_count": 4,
      "outputs": []
    },
    {
      "cell_type": "code",
      "source": [
        "from langchain.prompts import PromptTemplate\n",
        "from langchain.chains import LLMChain\n",
        "\n",
        "template = \"\"\"\n",
        "You are a data analyst. Based on the following linear regression output, create a professional summary:\n",
        "\n",
        "Regression Output:\n",
        "{regression_output}\n",
        "\n",
        "Include:\n",
        "- Key predictors and their coefficients\n",
        "- R-squared and MSE values\n",
        "- Interpretation of the model fit\n",
        "- Any interesting insights\n",
        "\"\"\"\n",
        "\n",
        "prompt = PromptTemplate(\n",
        "    input_variables=[\"regression_output\"],\n",
        "    template=template,\n",
        ")\n",
        "\n",
        "chain = LLMChain(llm=model, prompt=prompt)\n"
      ],
      "metadata": {
        "colab": {
          "base_uri": "https://localhost:8080/"
        },
        "id": "MWn-WtU5n62t",
        "outputId": "ce25d833-a6fc-49ce-e5e3-69ae825cb542"
      },
      "execution_count": 6,
      "outputs": [
        {
          "output_type": "stream",
          "name": "stderr",
          "text": [
            "<ipython-input-6-338f0e24fd25>:22: LangChainDeprecationWarning: The class `LLMChain` was deprecated in LangChain 0.1.17 and will be removed in 1.0. Use :meth:`~RunnableSequence, e.g., `prompt | llm`` instead.\n",
            "  chain = LLMChain(llm=model, prompt=prompt)\n"
          ]
        }
      ]
    },
    {
      "cell_type": "code",
      "source": [
        "# Step 1: Load dataset\n",
        "df = pd.read_csv(\"/content/assignment_data.csv\")\n",
        "\n",
        "# Step 2: Run regression\n",
        "results = perform_regression(df)\n",
        "\n",
        "# Step 3: Generate summary\n",
        "if isinstance(results, dict):\n",
        "    summary = chain.run(regression_output=str(results))\n",
        "    print(summary)\n",
        "else:\n",
        "    print(results)\n"
      ],
      "metadata": {
        "colab": {
          "base_uri": "https://localhost:8080/"
        },
        "id": "YN9qCHbxn_YO",
        "outputId": "77f39e17-274c-4df9-df49-2549f70607a3"
      },
      "execution_count": 7,
      "outputs": [
        {
          "output_type": "stream",
          "name": "stderr",
          "text": [
            "<ipython-input-7-2b631a55b9fb>:9: LangChainDeprecationWarning: The method `Chain.run` was deprecated in langchain 0.1.0 and will be removed in 1.0. Use :meth:`~invoke` instead.\n",
            "  summary = chain.run(regression_output=str(results))\n"
          ]
        },
        {
          "output_type": "stream",
          "name": "stdout",
          "text": [
            "<think>\n",
            "Alright, I've got this query from a user who is a data analyst. They provided a linear regression output and want a professional summary based on that. Let me start by understanding what they need.\n",
            "\n",
            "First, I need to look at the regression output. It includes coefficients for various predictors, an intercept, R-squared, and MSE. My task is to extract key predictors and their coefficients, include R-squared and MSE, interpret the model fit, and find any interesting insights.\n",
            "\n",
            "I should start by identifying the key predictors. Looking at the coefficients, some are positive and some are negative. The user probably wants to know which variables have the most impact, both positive and negative. So I'll list the top few from each category.\n",
            "\n",
            "Next, I need to explain the R-squared and MSE. R-squared is about 0.52, which means the model explains over half the variance. That's moderate, not too strong but decent. MSE is 37, which I guess is the units of the dependent variable. I should mention that lower MSE is better but also consider the context.\n",
            "\n",
            "Interpreting the model fit, I'll note that R-squared is moderate, so there's still some variance unexplained. Maybe mention that other factors or nonlinear relationships could be at play.\n",
            "\n",
            "For insights, I'll highlight the significant predictors. For example, organic SEO non-brand clicks have a strong positive coefficient, which is good for the business. Video conversion spend is also positive. On the flip side, some brand tracker metrics are negative, which might indicate issues with brand perception. COVID Q2 has a positive coefficient, suggesting recovery. The negative coefficient for orders_all_np is interesting and might need further investigation.\n",
            "\n",
            "I should structure the summary clearly, maybe in sections like key predictors, model fit, insights, and recommendations. Keep it professional but concise, making sure to explain each part without getting too technical.\n",
            "\n",
            "I also need to make sure I'm accurate with the coefficients and their interpretations. For example, the brand tracker with a coefficient of -169 has a big impact, so that's a key point. The positive coefficient for VideoConversionPMAX_spend suggests that spending here is effective.\n",
            "\n",
            "I should avoid jargon and make it accessible, but still detailed enough for a professional audience. The user likely needs this summary for a report or presentation, so clarity is key.\n",
            "\n",
            "I think I've covered all the necessary points. Now, I'll structure the summary with clear headings and bullet points for readability.\n",
            "</think>\n",
            "\n",
            "### Professional Summary of Linear Regression Analysis\n",
            "\n",
            "#### Key Predictors and Their Coefficients:\n",
            "The linear regression model identifies the following key predictors and their corresponding coefficients:\n",
            "\n",
            "1. **Positive Coefficients (Increasing the Dependent Variable):**\n",
            "   - **organic_seo_non_brand_clicks**: 0.00419276\n",
            "   - **VideoConversionPMAX_spend**: 0.00014648\n",
            "   - **VideoConversion_spend**: 0.00023831\n",
            "   - **search_terms_xxxx_core_brand_terms_searches**: 0.02273419\n",
            "   - **gcr_per_order_overall_dom_registration_avg_7d**: 0.25802446\n",
            "   - **gcr_per_order_overall_o365_avg_7d**: 0.42667612\n",
            "   - **brand_tracker_gen_pop_describes_xxxx_proud_to_use_lag_1qtr**: 53.355045\n",
            "\n",
            "2. **Negative Coefficients (Decreasing the Dependent Variable):**\n",
            "   - **covid_Q1_22**: -4.79100278\n",
            "   - **brand_tracker_gen_pop_describes_xxxx_aligns_values_lag_2qtr**: -169.51196852\n",
            "   - **brand_tracker_gen_pop_unaided_awareness_domains_web_hosting_lag_1qtr**: -137.2194742\n",
            "   - **brand_tracker_gen_pop_describes_xxxx_brand_trust_lag_1qtr**: -101.10184369\n",
            "   - **brand_tracker_gen_pop_describes_xxxx_aligns_values_lag_3qtr**: -390.9947287\n",
            "   - **brand_tracker_gen_pop_aided_awareness_lag_1qtr**: -43.01526436\n",
            "\n",
            "#### Model Fit:\n",
            "- **R-squared (R²)**: 0.5214  \n",
            "  - The model explains approximately 52.14% of the variance in the dependent variable, indicating a moderate fit.  \n",
            "  - While there is room for improvement, the model provides a reasonable explanation of the data.\n",
            "\n",
            "- **Mean Squared Error (MSE)**: 37.0009  \n",
            "  - The MSE of 37.0009 suggests that the model's predictions are on average 37.0009 units away from the actual values.  \n",
            "  - This value should be interpreted in the context of the scale of the dependent variable.\n",
            "\n",
            "#### Interpretation of the Model Fit:\n",
            "The R-squared value of 0.5214 indicates that the model explains a little over half of the variance in the dependent variable. This suggests that the model is a reasonable predictor but may benefit from the inclusion of additional predictors or the consideration of non-linear relationships. The MSE of 37.0009 provides a quantitative measure of the model's predictive accuracy, which can be used to compare the performance of this model with other models.\n",
            "\n",
            "#### Interesting Insights:\n",
            "1. **COVID-19 Impact**:  \n",
            "   - The coefficient for **covid_Q1_22** is negative (-4.791), indicating a significant negative impact of COVID-19 during Q1 2022 on the dependent variable.  \n",
            "   - However, the positive coefficient for **covid_Q2_22** (1.8175) suggests some recovery or positive movement in Q2 2022.\n",
            "\n",
            "2. **Brand Perception**:  \n",
            "   - Several brand-related metrics, such as **brand_tracker_gen_pop_describes_xxxx_aligns_values_lag_2qtr** (-169.51196852) and **brand_tracker_gen_pop_describes_xxxx_brand_trust_lag_1qtr** (-101.10184369), have large negative coefficients.  \n",
            "   - This suggests that negative perceptions of the brand (e.g., alignment with values, brand trust) have a significant adverse effect on the dependent variable.  \n",
            "   - Conversely, **brand_tracker_gen_pop_describes_xxxx_proud_to_use_lag_1qtr** has a positive coefficient (53.355045), indicating that pride in using the brand positively influences the dependent variable.\n",
            "\n",
            "3. **Marketing Channels**:  \n",
            "   - **organic_seo_non_brand_clicks** has a strong positive coefficient (0.00419276), highlighting the importance of organic, non-brand search traffic in driving the dependent variable.  \n",
            "   - **VideoConversionPMAX_spend** and **VideoConversion_spend** also have positive coefficients, suggesting that investments in video conversion and PMAX spending are effective in increasing the dependent variable.  \n",
            "   - However, **orders_all_np** has a negative coefficient (-0.00025746), indicating that an increase in orders is associated with a small decrease in the dependent variable, which may warrant further investigation.\n",
            "\n",
            "4. **Customer Behavior Metrics**:  \n",
            "   - **gcr_per_order_overall_dom_registration_avg_7d** (0.25802446) and **gcr_per_order_overall_o365_avg_7d** (0.42667612) have positive coefficients, suggesting that higher average GCR (Gross Conversion Rate) per order for domain registration and Office 365 products is associated with an increase in the dependent variable.\n",
            "\n",
            "#### Recommendations:\n",
            "- **Further Investigation**: Investigate the negative relationship between **orders_all_np** and the dependent variable to understand the underlying cause.  \n",
            "- **Brand Management**: Address negative brand perceptions, particularly around alignment with values and brand trust, as these have a significant adverse impact on the dependent variable.  \n",
            "- **Marketing Optimization**: Increase investments in organic SEO non-brand clicks and video conversion spending, as these channels show strong positive relationships with the dependent variable.  \n",
            "- **Model Improvement**: Consider adding additional predictors or exploring non-linear relationships to improve the model's explanatory power (R-squared).\n"
          ]
        }
      ]
    },
    {
      "cell_type": "code",
      "source": [],
      "metadata": {
        "id": "gdGx_EvSoTuw"
      },
      "execution_count": null,
      "outputs": []
    }
  ]
}