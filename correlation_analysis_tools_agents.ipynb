{
 "cells": [
  {
   "cell_type": "code",
   "execution_count": 2,
   "id": "99d50647-fd59-457b-b550-516d5e73f977",
   "metadata": {},
   "outputs": [],
   "source": [
    "from langchain.agents import initialize_agent\n",
    "from langchain.agents.agent_types import AgentType\n",
    "from langchain.tools import Tool\n",
    "from langchain.memory import ConversationBufferMemory\n",
    "import pandas as pd\n",
    "import numpy as np\n",
    "import re\n",
    "from pydantic import BaseModel, Field\n",
    "from typing import Optional\n",
    "from langchain.tools import BaseTool\n",
    "import os\n",
    "from typing import ClassVar, Type\n",
    "from pydantic import BaseModel, Field\n",
    "from langchain.tools import BaseTool"
   ]
  },
  {
   "cell_type": "code",
   "execution_count": 4,
   "id": "7ae75360-3e9f-4ecc-9b42-63132f101bfb",
   "metadata": {},
   "outputs": [
    {
     "name": "stdout",
     "output_type": "stream",
     "text": [
      "Note: you may need to restart the kernel to use updated packages.\n"
     ]
    }
   ],
   "source": [
    "pip install -qU \"langchain[groq]\""
   ]
  },
  {
   "cell_type": "code",
   "execution_count": 18,
   "id": "8a0c6a85-372e-4bc3-9d20-27a564e370e9",
   "metadata": {},
   "outputs": [],
   "source": [
    "import getpass\n",
    "import os\n",
    "\n",
    "if not os.environ.get(\"GROQ_API_KEY\"):\n",
    "  os.environ[\"GROQ_API_KEY\"] = getpass.getpass(\"Enter API key for Groq: \")\n",
    "\n",
    "from langchain.chat_models import init_chat_model\n",
    "\n",
    "llm = init_chat_model(\"deepseek-r1-distill-llama-70b\", model_provider=\"groq\")"
   ]
  },
  {
   "cell_type": "code",
   "execution_count": 8,
   "id": "c7299ceb-ed84-44c6-8990-558d95d3195b",
   "metadata": {},
   "outputs": [],
   "source": [
    "from langchain.tools import tool\n",
    "import pandas as pd\n",
    "from scipy.stats import spearmanr, pearsonr\n",
    "import re\n",
    "\n",
    "# Cache the dataframe so the tool can reuse it\n",
    "DATAFRAME = None\n",
    "\n",
    "def load_dataset(filepath):\n",
    "    global DATAFRAME\n",
    "    DATAFRAME = pd.read_csv(filepath)\n",
    "\n",
    "# LangChain tool\n",
    "@tool\n",
    "def correlation_tool(query: str) -> str:\n",
    "    \"\"\"\n",
    "    Extracts two column names from a user query and computes Pearson and Spearman correlation.\n",
    "    Example query: 'Find correlation between sales and profit'\n",
    "    \"\"\"\n",
    "\n",
    "    global DATAFRAME\n",
    "    if DATAFRAME is None:\n",
    "        return \"No dataset loaded. Please load a dataset first.\"\n",
    "\n",
    "    def extract_columns(query, df_columns):\n",
    "        found_columns = []\n",
    "        for col in df_columns:\n",
    "            if re.search(rf'\\b{col}\\b', query, re.IGNORECASE):\n",
    "                found_columns.append(col)\n",
    "        return found_columns if len(found_columns) == 2 else None\n",
    "\n",
    "    def calculate_correlations(df, col1, col2):\n",
    "        x = df[col1].dropna()\n",
    "        y = df[col2].dropna()\n",
    "        min_len = min(len(x), len(y))\n",
    "        x = x[:min_len]\n",
    "        y = y[:min_len]\n",
    "        pearson_corr, _ = pearsonr(x, y)\n",
    "        spearman_corr, _ = spearmanr(x, y)\n",
    "        return pearson_corr, spearman_corr\n",
    "\n",
    "    columns = extract_columns(query, DATAFRAME.columns)\n",
    "\n",
    "    if columns:\n",
    "        col1, col2 = columns\n",
    "        pearson_corr, spearman_corr = calculate_correlations(DATAFRAME, col1, col2)\n",
    "        return (\n",
    "            f\"Pearson correlation between '{col1}' and '{col2}': {pearson_corr:.4f}\\n\"\n",
    "            f\"Spearman correlation between '{col1}' and '{col2}': {spearman_corr:.4f}\"\n",
    "        )\n",
    "    else:\n",
    "        return \"Could not identify two valid columns from your query.\"\n"
   ]
  },
  {
   "cell_type": "code",
   "execution_count": 10,
   "id": "c5e90e46-3bf5-48ae-bd68-9bc09b51e984",
   "metadata": {},
   "outputs": [],
   "source": [
    "from langchain.agents import initialize_agent, AgentType\n"
   ]
  },
  {
   "cell_type": "code",
   "execution_count": 12,
   "id": "14b6e367-2e49-4cf7-bf9a-fd69efce0444",
   "metadata": {},
   "outputs": [],
   "source": [
    "load_dataset(\"assignment_data.csv\")  # Replace with actual path\n"
   ]
  },
  {
   "cell_type": "code",
   "execution_count": 14,
   "id": "aa2ae1df-2cc5-4141-81a7-a67e806c687a",
   "metadata": {},
   "outputs": [],
   "source": [
    "tools = [correlation_tool]\n"
   ]
  },
  {
   "cell_type": "code",
   "execution_count": 24,
   "id": "e22de64b-8573-474a-8dea-4a75cefd5997",
   "metadata": {},
   "outputs": [],
   "source": [
    "agent = initialize_agent(\n",
    "    tools=tools,\n",
    "    llm=llm,\n",
    "    agent=AgentType.ZERO_SHOT_REACT_DESCRIPTION,\n",
    "    verbose=True,\n",
    ")\n"
   ]
  },
  {
   "cell_type": "code",
   "execution_count": 26,
   "id": "47e38874-c3c7-48b7-afbf-ed80956defe5",
   "metadata": {},
   "outputs": [
    {
     "name": "stderr",
     "output_type": "stream",
     "text": [
      "/var/folders/jy/ggx46vz10978q8yfpqhpg4lh0000gp/T/ipykernel_3444/2609590713.py:1: LangChainDeprecationWarning: The method `Chain.run` was deprecated in langchain 0.1.0 and will be removed in 1.0. Use :meth:`~invoke` instead.\n",
      "  response = agent.run(\"Find correlation between orders_all_np and DisplayAll_spend\")\n"
     ]
    },
    {
     "name": "stdout",
     "output_type": "stream",
     "text": [
      "\n",
      "\n",
      "\u001b[1m> Entering new AgentExecutor chain...\u001b[0m\n",
      "\u001b[32;1m\u001b[1;3m<think>\n",
      "Okay, so I need to find the correlation between two columns: orders_all_np and DisplayAll_spend. Hmm, I'm not entirely sure what these columns represent, but I guess orders_all_np could be the number of orders, and DisplayAll_spend might be the amount spent on displaying something, maybe ads or products. \n",
      "\n",
      "First, I should figure out what kind of data these columns have. Are they numerical? I hope so because correlation usually works with numbers. If they're not, I might have to convert them or find another way to measure the relationship. \n",
      "\n",
      "I remember there are two main types of correlation: Pearson and Spearman. Pearson is for linear relationships and assumes that the data is normally distributed. Spearman is non-parametric, so it works better when the data isn't normal or when dealing with ranks. I'm not sure which one to use yet, so maybe I'll calculate both and see which one makes more sense.\n",
      "\n",
      "Using the correlation tool, I can input the two column names and get both Pearson and Spearman coefficients. That should give me a good idea of how strong and in what direction the relationship is between the two variables.\n",
      "\n",
      "Wait, before I run the tool, I should make sure the data is clean. Are there any missing values? If there are, the tool might handle them by excluding those cases, but I should check that. Also, are the variables on a similar scale? If one is much larger than the other, Pearson might be more sensitive to outliers.\n",
      "\n",
      "Alright, I think I'm ready to run the tool with the two column names. Let's see what the results are.\n",
      "</think>\n",
      "\n",
      "The correlation between orders_all_np and DisplayAll_spend is being calculated using both Pearson and Spearman methods to assess the strength and direction of their relationship. \n",
      "\n",
      "Action: correlation_tool\n",
      "Action Input: orders_all_np and DisplayAll_spend\n",
      "\u001b[0m\n",
      "Observation: \u001b[36;1m\u001b[1;3mPearson correlation between 'orders_all_np' and 'DisplayAll_spend': 0.1043\n",
      "Spearman correlation between 'orders_all_np' and 'DisplayAll_spend': 0.1532\u001b[0m\n",
      "Thought:\u001b[32;1m\u001b[1;3m\n",
      "\n",
      "The Pearson correlation of 0.1043 indicates a weak positive linear relationship between the two variables. The Spearman correlation of 0.1532 also suggests a weak positive monotonic relationship. Both coefficients being relatively low implies that there isn't a strong association between the number of orders and the display spend. \n",
      "\n",
      "Final Answer: The correlation between orders_all_np and DisplayAll_spend is weakly positive, with Pearson's r = 0.1043 and Spearman's ρ = 0.1532, indicating a slight tendency for higher orders with more display spend, but the relationship is not strong.\u001b[0m\n",
      "\n",
      "\u001b[1m> Finished chain.\u001b[0m\n",
      "The correlation between orders_all_np and DisplayAll_spend is weakly positive, with Pearson's r = 0.1043 and Spearman's ρ = 0.1532, indicating a slight tendency for higher orders with more display spend, but the relationship is not strong.\n"
     ]
    }
   ],
   "source": [
    "response = agent.run(\"Find correlation between orders_all_np and DisplayAll_spend\")\n",
    "print(response)"
   ]
  },
  {
   "cell_type": "code",
   "execution_count": null,
   "id": "b2ba0f3a-0ccb-4c75-bf37-780c3482dd86",
   "metadata": {},
   "outputs": [],
   "source": []
  }
 ],
 "metadata": {
  "kernelspec": {
   "display_name": "Python [conda env:base] *",
   "language": "python",
   "name": "conda-base-py"
  },
  "language_info": {
   "codemirror_mode": {
    "name": "ipython",
    "version": 3
   },
   "file_extension": ".py",
   "mimetype": "text/x-python",
   "name": "python",
   "nbconvert_exporter": "python",
   "pygments_lexer": "ipython3",
   "version": "3.12.7"
  }
 },
 "nbformat": 4,
 "nbformat_minor": 5
}
