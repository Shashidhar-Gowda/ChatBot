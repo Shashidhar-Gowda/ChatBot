{
  "nbformat": 4,
  "nbformat_minor": 0,
  "metadata": {
    "colab": {
      "provenance": [],
      "include_colab_link": true
    },
    "kernelspec": {
      "name": "python3",
      "display_name": "Python 3"
    },
    "language_info": {
      "name": "python"
    }
  },
  "cells": [
    {
      "cell_type": "markdown",
      "metadata": {
        "id": "view-in-github",
        "colab_type": "text"
      },
      "source": [
        "<a href=\"https://colab.research.google.com/github/Shashidhar-Gowda/ChatBot/blob/mlds/groq_agent_for_code_generation.ipynb\" target=\"_parent\"><img src=\"https://colab.research.google.com/assets/colab-badge.svg\" alt=\"Open In Colab\"/></a>"
      ]
    },
    {
      "cell_type": "code",
      "execution_count": null,
      "metadata": {
        "id": "fcOfBGRShVOD"
      },
      "outputs": [],
      "source": [
        "pip install -qU \"langchain[groq]\""
      ]
    },
    {
      "cell_type": "code",
      "source": [
        "import getpass\n",
        "import os\n",
        "\n",
        "if not os.environ.get(\"GROQ_API_KEY\"):\n",
        "  os.environ[\"GROQ_API_KEY\"] = getpass.getpass(\"Enter API key for Groq: \")\n",
        "\n",
        "from langchain.chat_models import init_chat_model\n",
        "\n",
        "model = init_chat_model(\"deepseek-r1-distill-llama-70b\", model_provider=\"groq\")"
      ],
      "metadata": {
        "id": "cYaMPAlYhYof"
      },
      "execution_count": null,
      "outputs": []
    },
    {
      "cell_type": "code",
      "source": [
        "from langchain_core.messages import HumanMessage\n",
        "\n",
        "response = model.invoke([HumanMessage(content=\"hi\")])\n",
        "response.content"
      ],
      "metadata": {
        "colab": {
          "base_uri": "https://localhost:8080/",
          "height": 35
        },
        "id": "AuVRbph1hm3P",
        "outputId": "5842eb9e-79eb-4ec3-971f-d70d066f187b"
      },
      "execution_count": null,
      "outputs": [
        {
          "output_type": "execute_result",
          "data": {
            "text/plain": [
              "'<think>\\n\\n</think>\\n\\nHello! How can I assist you today? 😊'"
            ],
            "application/vnd.google.colaboratory.intrinsic+json": {
              "type": "string"
            }
          },
          "metadata": {},
          "execution_count": 9
        }
      ]
    },
    {
      "cell_type": "code",
      "source": [
        "from langchain_core.messages import HumanMessage\n",
        "\n",
        "response = model.invoke([HumanMessage(content=\"give example of linear regression\")])\n",
        "response.content"
      ],
      "metadata": {
        "colab": {
          "base_uri": "https://localhost:8080/",
          "height": 143
        },
        "id": "YT34riJoh7PO",
        "outputId": "0c0e327d-d433-4be3-a51d-23490b6651e6"
      },
      "execution_count": null,
      "outputs": [
        {
          "output_type": "execute_result",
          "data": {
            "text/plain": [
              "\"<think>\\nOkay, so I need to come up with an example of linear regression. Hmm, I remember that linear regression is a statistical method used to model the relationship between variables. It's often used to predict an outcome based on one or more predictors. \\n\\nLet me think of a simple real-life scenario. Maybe something like predicting house prices based on their size. That sounds familiar. So, in this case, the size of the house would be the independent variable, and the price would be the dependent variable.\\n\\nAlright, so I should probably start by defining the variables. Let's say X is the size of the house in square feet, and Y is the price in dollars. My goal would be to find a linear equation that best predicts Y based on X.\\n\\nI think the general form of a linear regression equation is Y = a + bX, where 'a' is the y-intercept and 'b' is the slope of the regression line. So, I need to calculate 'a' and 'b' using data points.\\n\\nI should collect some data. Maybe I can look up some houses with their sizes and prices. Let's say I have five data points for simplicity. \\n\\nFor example:\\n- House 1: 1000 sq ft, $200,000\\n- House 2: 1200 sq ft, $250,000\\n- House 3: 1500 sq ft, $300,000\\n- House 4: 1800 sq ft, $350,000\\n- House 5: 2000 sq ft, $400,000\\n\\nNow, I need to calculate the mean of X and the mean of Y. The mean of X would be the average of all the house sizes, and the mean of Y would be the average of all the house prices.\\n\\nCalculating mean X:\\n(1000 + 1200 + 1500 + 1800 + 2000) / 5 = 7500 / 5 = 1500\\n\\nMean Y:\\n(200,000 + 250,000 + 300,000 + 350,000 + 400,000) / 5 = 1,500,000 / 5 = 300,000\\n\\nNext, I need to find the slope 'b' of the regression line. The formula for 'b' is the covariance of X and Y divided by the variance of X. \\n\\nCovariance is calculated as the sum of (Xi - mean X)(Yi - mean Y) for all i, divided by N-1 (sample covariance) or N (population covariance). Since I'm using the whole population in this small example, I'll divide by N.\\n\\nSo, covariance:\\n[(1000-1500)(200,000-300,000) + (1200-1500)(250,000-300,000) + (1500-1500)(300,000-300,000) + (1800-1500)(350,000-300,000) + (2000-1500)(400,000-300,000)] / 5\\n\\nCalculating each term:\\n( -500 * -100,000 ) = 50,000,000\\n( -300 * -50,000 ) = 15,000,000\\n( 0 * 0 ) = 0\\n( 300 * 50,000 ) = 15,000,000\\n( 500 * 100,000 ) = 50,000,000\\n\\nSum of these = 50M + 15M + 0 + 15M + 50M = 130,000,000\\n\\nCovariance = 130,000,000 / 5 = 26,000,000\\n\\nNow, the variance of X is the average of the squared differences from the mean. So:\\n\\nVariance of X = [(1000-1500)^2 + (1200-1500)^2 + (1500-1500)^2 + (1800-1500)^2 + (2000-1500)^2] / 5\\n\\nCalculating each term:\\n(-500)^2 = 250,000\\n(-300)^2 = 90,000\\n0^2 = 0\\n300^2 = 90,000\\n500^2 = 250,000\\n\\nSum = 250,000 + 90,000 + 0 + 90,000 + 250,000 = 680,000\\n\\nVariance of X = 680,000 / 5 = 136,000\\n\\nSo, the slope 'b' is covariance / variance = 26,000,000 / 136,000 ≈ 191.176\\n\\nNow, to find 'a', the y-intercept, using the formula a = mean Y - b * mean X\\n\\na = 300,000 - 191.176 * 1500\\n\\nCalculating 191.176 * 1500: 191.176 * 1000 = 191,176; 191.176 * 500 = 95,588; total ≈ 286,764\\n\\nSo, a ≈ 300,000 - 286,764 ≈ 13,236\\n\\nTherefore, the regression equation is Y = 13,236 + 191.176X\\n\\nTo test it, let's predict the price of a 1600 sq ft house:\\n\\nY = 13,236 + 191.176 * 1600 ≈ 13,236 + 305,482.56 ≈ 318,718.56\\n\\nSo, the predicted price is approximately $318,719.\\n\\nWait, let me double-check the calculations to make sure I didn't make any errors. The covariance and variance steps are crucial. Let me recalculate covariance:\\n\\nEach (Xi - mean X)(Yi - mean Y):\\n\\n1. (1000-1500)(200k-300k) = (-500)(-100k) = 50,000,000\\n2. (1200-1500)(250k-300k) = (-300)(-50k) = 15,000,000\\n3. (1500-1500)(300k-300k) = 0\\n4. (1800-1500)(350k-300k) = 300*50k = 15,000,000\\n5. (2000-1500)(400k-300k) = 500*100k = 50,000,000\\n\\nTotal = 50M +15M +0 +15M +50M = 130M, as before. Divided by 5 gives 26M. That's correct.\\n\\nVariance of X: squared differences divided by 5.\\n\\nEach (Xi - 1500)^2:\\n\\n1000: (-500)^2=250k\\n1200: (-300)^2=90k\\n1500: 0\\n1800: 300^2=90k\\n2000:500^2=250k\\n\\nTotal:250k +90k +0 +90k +250k=680k. Divided by 5 gives 136k. Correct.\\n\\nSo, slope b=26M /136k≈191.176. Correct.\\n\\na=300k -191.176*1500≈300k -286,764≈13,236. Correct.\\n\\nSo, equation Y=13,236 +191.176X. Testing with X=1600 gives Y≈318,718.56. That seems reasonable.\\n\\nI think this example works. It shows how linear regression can predict house prices based on size using a straight line equation.\\n</think>\\n\\n**Linear Regression Example: Predicting House Prices Based on Size**\\n\\n**Objective:**  \\nTo predict the price of a house based on its size using linear regression.\\n\\n**Variables:**\\n- **Independent Variable (X):** House size in square feet.\\n- **Dependent Variable (Y):** House price in dollars.\\n\\n**Data Points:**\\n1. 1000 sq ft, $200,000\\n2. 1200 sq ft, $250,000\\n3. 1500 sq ft, $300,000\\n4. 1800 sq ft, $350,000\\n5. 2000 sq ft, $400,000\\n\\n**Regression Equation:**\\nThe linear regression equation is of the form:  \\n\\\\[ Y = a + bX \\\\]  \\nWhere:\\n- \\\\( a \\\\) is the y-intercept.\\n- \\\\( b \\\\) is the slope coefficient.\\n\\n**Calculations:**\\n\\n1. **Mean of X (\\\\( \\\\bar{X} \\\\)) and Mean of Y (\\\\( \\\\bar{Y} \\\\)):**\\n   \\\\[\\n   \\\\bar{X} = \\\\frac{1000 + 1200 + 1500 + 1800 + 2000}{5} = 1500\\n   \\\\]\\n   \\\\[\\n   \\\\bar{Y} = \\\\frac{200,000 + 250,000 + 300,000 + 350,000 + 400,000}{5} = 300,000\\n   \\\\]\\n\\n2. **Covariance of X and Y:**\\n   \\\\[\\n   \\\\text{Covariance} = \\\\frac{1}{5} \\\\times [(-500)(-100,000) + (-300)(-50,000) + 0 + 300(50,000) + 500(100,000)] = \\\\frac{130,000,000}{5} = 26,000,000\\n   \\\\]\\n\\n3. **Variance of X:**\\n   \\\\[\\n   \\\\text{Variance} = \\\\frac{1}{5} \\\\times [(-500)^2 + (-300)^2 + 0 + 300^2 + 500^2] = \\\\frac{680,000}{5} = 136,000\\n   \\\\]\\n\\n4. **Slope Coefficient (b):**\\n   \\\\[\\n   b = \\\\frac{\\\\text{Covariance}}{\\\\text{Variance}} = \\\\frac{26,000,000}{136,000} \\\\approx 191.176\\n   \\\\]\\n\\n5. **Y-Intercept (a):**\\n   \\\\[\\n   a = \\\\bar{Y} - b \\\\times \\\\bar{X} = 300,000 - 191.176 \\\\times 1500 \\\\approx 13,236\\n   \\\\]\\n\\n**Regression Equation:**\\n\\\\[\\nY = 13,236 + 191.176X\\n\\\\]\\n\\n**Prediction:**\\nTo predict the price of a 1600 sq ft house:\\n\\\\[\\nY = 13,236 + 191.176 \\\\times 1600 \\\\approx 318,718.56\\n\\\\]\\n\\n**Conclusion:**\\nThe predicted price of a 1600 square foot house is approximately **$318,719**. This example demonstrates how linear regression can be applied to establish a relationship between house size and price, enabling predictions based on this model.\""
            ],
            "application/vnd.google.colaboratory.intrinsic+json": {
              "type": "string"
            }
          },
          "metadata": {},
          "execution_count": 6
        }
      ]
    },
    {
      "cell_type": "code",
      "source": [
        "import getpass\n",
        "import os\n",
        "\n",
        "if not os.environ.get(\"GROQ_API_KEY\"):\n",
        "  os.environ[\"GROQ_API_KEY\"] = getpass.getpass(\"Enter API key for Groq: \")\n",
        "\n",
        "from langchain.chat_models import init_chat_model\n",
        "\n",
        "model = init_chat_model(\"qwen-2.5-coder-32b\", model_provider=\"groq\")"
      ],
      "metadata": {
        "id": "ZlkaWhpLjXu5"
      },
      "execution_count": null,
      "outputs": []
    },
    {
      "cell_type": "code",
      "source": [
        "from langchain_core.messages import HumanMessage\n",
        "\n",
        "response = model.invoke([HumanMessage(content=\"give code for linear regression\")])\n",
        "response.content"
      ],
      "metadata": {
        "colab": {
          "base_uri": "https://localhost:8080/",
          "height": 303
        },
        "id": "OJykcrLDkGbN",
        "outputId": "33919dad-cdf6-42b8-fd38-5b7eb06a1fef"
      },
      "execution_count": null,
      "outputs": [
        {
          "output_type": "execute_result",
          "data": {
            "text/plain": [
              "'Certainly! Linear regression is a fundamental algorithm in machine learning used to model the relationship between a dependent variable and one or more independent variables. Below is a simple example of how to implement linear regression using Python and the popular libraries `numpy` and `scikit-learn`.\\n\\nFirst, ensure you have the necessary libraries installed. You can install them using pip if you haven\\'t already:\\n\\n```bash\\npip install numpy scikit-learn matplotlib\\n```\\n\\nHere\\'s a basic example of linear regression:\\n\\n```python\\nimport numpy as np\\nimport matplotlib.pyplot as plt\\nfrom sklearn.model_selection import train_test_split\\nfrom sklearn.linear_model import LinearRegression\\nfrom sklearn.metrics import mean_squared_error, r2_score\\n\\n# Generate some sample data\\n# Let\\'s assume y = 2x + 1 with some noise\\nnp.random.seed(0)\\nX = 2 * np.random.rand(100, 1)\\ny = 4 + 3 * X + np.random.randn(100, 1)\\n\\n# Split the data into training and testing sets\\nX_train, X_test, y_train, y_test = train_test_split(X, y, test_size=0.2, random_state=42)\\n\\n# Create a linear regression model\\nmodel = LinearRegression()\\n\\n# Train the model\\nmodel.fit(X_train, y_train)\\n\\n# Make predictions\\ny_pred = model.predict(X_test)\\n\\n# Evaluate the model\\nmse = mean_squared_error(y_test, y_pred)\\nr2 = r2_score(y_test, y_pred)\\n\\nprint(f\"Mean Squared Error: {mse}\")\\nprint(f\"R^2 Score: {r2}\")\\n\\n# Plot the results\\nplt.scatter(X_test, y_test, color=\\'black\\', label=\\'Actual data\\')\\nplt.plot(X_test, y_pred, color=\\'blue\\', linewidth=3, label=\\'Predicted line\\')\\nplt.xlabel(\\'X\\')\\nplt.ylabel(\\'y\\')\\nplt.title(\\'Linear Regression\\')\\nplt.legend()\\nplt.show()\\n```\\n\\n### Explanation:\\n\\n1. **Data Generation**: We generate some synthetic data where `y = 4 + 3X + noise`. This is just for demonstration purposes.\\n2. **Data Splitting**: The data is split into training and testing sets using `train_test_split`.\\n3. **Model Creation**: We create an instance of `LinearRegression`.\\n4. **Model Training**: The model is trained using the training data.\\n5. **Predictions**: We use the trained model to make predictions on the test data.\\n6. **Evaluation**: We evaluate the model using Mean Squared Error (MSE) and R² score.\\n7. **Visualization**: Finally, we plot the actual data points and the predicted regression line.\\n\\nThis is a simple example of linear regression. In practice, you would use real-world data and might need to perform additional preprocessing steps such as feature scaling or handling missing values.'"
            ],
            "application/vnd.google.colaboratory.intrinsic+json": {
              "type": "string"
            }
          },
          "metadata": {},
          "execution_count": 10
        }
      ]
    },
    {
      "cell_type": "code",
      "source": [],
      "metadata": {
        "id": "sSGHIcewkL_e"
      },
      "execution_count": null,
      "outputs": []
    }
  ]
}