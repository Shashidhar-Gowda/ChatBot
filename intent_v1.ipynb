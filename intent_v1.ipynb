{
  "nbformat": 4,
  "nbformat_minor": 0,
  "metadata": {
    "colab": {
      "provenance": [],
      "include_colab_link": true
    },
    "kernelspec": {
      "name": "python3",
      "display_name": "Python 3"
    },
    "language_info": {
      "name": "python"
    }
  },
  "cells": [
    {
      "cell_type": "markdown",
      "metadata": {
        "id": "view-in-github",
        "colab_type": "text"
      },
      "source": [
        "<a href=\"https://colab.research.google.com/github/Shashidhar-Gowda/ChatBot/blob/mlds/intent_v1.ipynb\" target=\"_parent\"><img src=\"https://colab.research.google.com/assets/colab-badge.svg\" alt=\"Open In Colab\"/></a>"
      ]
    },
    {
      "cell_type": "code",
      "execution_count": null,
      "metadata": {
        "colab": {
          "base_uri": "https://localhost:8080/"
        },
        "id": "o22aXNHOBmc1",
        "outputId": "e9d36738-3c3f-4ef5-d271-f6f5f77ae938"
      },
      "outputs": [
        {
          "output_type": "stream",
          "name": "stdout",
          "text": [
            "BrainBot: Hey I'm BrainBot! I can help you analyze your data.\n",
            "You: what is sales\n",
            "BrainBot: Intent detected: unknown. \n",
            "I'm not sure what you mean. Can you rephrase or be more specific?\n",
            "You: I want to know about my last month sales\n",
            "BrainBot: Intent detected: unknown. \n",
            "I'm not sure what you mean. Can you rephrase or be more specific?\n"
          ]
        }
      ],
      "source": [
        "import re\n",
        "\n",
        "# Define intents and their associated regex patterns\n",
        "intents = {\n",
        "    \"correlation_analysis\": [\n",
        "        r'\\bcorrelation\\b',\n",
        "        r'\\bcorrelate\\b',\n",
        "        r'\\bpearson\\b',\n",
        "        r'\\bspearman\\b',\n",
        "        r'\\brelationship\\b',\n",
        "        r'\\bassociation\\b',\n",
        "        r'\\brelation\\b'\n",
        "    ],\n",
        "    \"visualization\": [\n",
        "        r'\\bvisualize\\b',\n",
        "        r'\\bchart\\b',\n",
        "        r'\\bplot\\b',\n",
        "        r'\\bgraph\\b',\n",
        "        r'\\bline plot\\b',\n",
        "        r'\\bhistogram\\b',\n",
        "        r'\\bscatter\\b',\n",
        "        r'\\bvisualization\\b'\n",
        "    ],\n",
        "    \"preprocessing\": [\n",
        "        r'\\bclean\\b',\n",
        "        r'\\bmissing values\\b',\n",
        "        r'\\bnulls\\b',\n",
        "        r'\\bpreprocess\\b',\n",
        "        r'\\bstandardize\\b',\n",
        "        r'\\bnormalize\\b',\n",
        "        r'\\bremove duplicates\\b',\n",
        "    ],\n",
        "    \"greetings\" : [\n",
        "        r'\\bhi\\b',\n",
        "        r'\\bhey\\b',\n",
        "        r'\\bhello\\b',\n",
        "        r'\\bhola\\b'\n",
        "    ]\n",
        "}\n",
        "\n",
        "def classify_intent(user_input):\n",
        "    for intent, patterns in intents.items():\n",
        "        for pattern in patterns:\n",
        "            if re.search(pattern, user_input, re.IGNORECASE):\n",
        "                return intent\n",
        "    return \"unknown\"\n",
        "\n",
        "# Example interaction loop\n",
        "if __name__ == \"__main__\":\n",
        "    print(\"BrainBot: Hey I'm BrainBot! I can help you analyze your data.\")\n",
        "    while True:\n",
        "        user_input = input(\"You: \")\n",
        "        if user_input.lower() in ['exit', 'quit','bye']:`\n",
        "            print(\"BrainBot: Goodbye!\")\n",
        "            break\n",
        "\n",
        "        intent = classify_intent(user_input)\n",
        "\n",
        "        if intent == \"correlation_analysis\":\n",
        "            print(f\"BrainBot: Intent detected: {intent}. \\nI can help you perform correlation analysis (Pearson and Spearman).\")\n",
        "        elif intent == \"visualization\":\n",
        "            print(f\"BrainBot: Intent detected: {intent}. \\nHere are the visualizations of the data: \")\n",
        "        elif intent == \"preprocessing\":\n",
        "            print(f\"BrainBot: Intent detected: {intent}. \\nLet’s clean and preprocess your data.\")\n",
        "        elif intent == \"greetings\":\n",
        "            print(f\"BrainBot: Intent detected : {intent}. \\nHey there! How can I help you?\")\n",
        "        else:\n",
        "            print(\"BrainBot: Intent detected: unknown. \\nI'm not sure what you mean. Can you rephrase or be more specific?\")\n"
      ]
    }
  ]
}