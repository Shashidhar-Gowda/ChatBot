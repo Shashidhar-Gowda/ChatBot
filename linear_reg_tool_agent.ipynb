{
 "cells": [
  {
   "cell_type": "code",
   "execution_count": 1,
   "id": "b309061f-62d8-4cf0-9b95-52db73c3f273",
   "metadata": {},
   "outputs": [
    {
     "name": "stdout",
     "output_type": "stream",
     "text": [
      "Note: you may need to restart the kernel to use updated packages.\n"
     ]
    }
   ],
   "source": [
    "pip install -qU \"langchain[groq]\""
   ]
  },
  {
   "cell_type": "code",
   "execution_count": 2,
   "id": "69244d48-d1cb-43a2-af6f-abb39ce2ebfc",
   "metadata": {},
   "outputs": [
    {
     "name": "stdin",
     "output_type": "stream",
     "text": [
      "Enter API key for Groq:  ········\n"
     ]
    }
   ],
   "source": [
    "import getpass\n",
    "import os\n",
    "\n",
    "if not os.environ.get(\"GROQ_API_KEY\"):\n",
    "  os.environ[\"GROQ_API_KEY\"] = getpass.getpass(\"Enter API key for Groq: \")\n",
    "\n",
    "from langchain.chat_models import init_chat_model\n",
    "\n",
    "llm = init_chat_model(\"deepseek-r1-distill-llama-70b\", model_provider=\"groq\")"
   ]
  },
  {
   "cell_type": "code",
   "execution_count": 3,
   "id": "f531bda3-e169-4f9b-9d51-b32db831b710",
   "metadata": {},
   "outputs": [
    {
     "name": "stdout",
     "output_type": "stream",
     "text": [
      "Requirement already satisfied: pandas in /opt/anaconda3/lib/python3.12/site-packages (2.2.2)\n",
      "Requirement already satisfied: scikit-learn in /opt/anaconda3/lib/python3.12/site-packages (1.5.1)\n",
      "Requirement already satisfied: langchain in /opt/anaconda3/lib/python3.12/site-packages (0.3.23)\n",
      "Requirement already satisfied: numpy>=1.26.0 in /opt/anaconda3/lib/python3.12/site-packages (from pandas) (1.26.4)\n",
      "Requirement already satisfied: python-dateutil>=2.8.2 in /opt/anaconda3/lib/python3.12/site-packages (from pandas) (2.9.0.post0)\n",
      "Requirement already satisfied: pytz>=2020.1 in /opt/anaconda3/lib/python3.12/site-packages (from pandas) (2024.1)\n",
      "Requirement already satisfied: tzdata>=2022.7 in /opt/anaconda3/lib/python3.12/site-packages (from pandas) (2023.3)\n",
      "Requirement already satisfied: scipy>=1.6.0 in /opt/anaconda3/lib/python3.12/site-packages (from scikit-learn) (1.13.1)\n",
      "Requirement already satisfied: joblib>=1.2.0 in /opt/anaconda3/lib/python3.12/site-packages (from scikit-learn) (1.4.2)\n",
      "Requirement already satisfied: threadpoolctl>=3.1.0 in /opt/anaconda3/lib/python3.12/site-packages (from scikit-learn) (3.5.0)\n",
      "Requirement already satisfied: langchain-core<1.0.0,>=0.3.51 in /opt/anaconda3/lib/python3.12/site-packages (from langchain) (0.3.52)\n",
      "Requirement already satisfied: langchain-text-splitters<1.0.0,>=0.3.8 in /opt/anaconda3/lib/python3.12/site-packages (from langchain) (0.3.8)\n",
      "Requirement already satisfied: langsmith<0.4,>=0.1.17 in /opt/anaconda3/lib/python3.12/site-packages (from langchain) (0.3.13)\n",
      "Requirement already satisfied: pydantic<3.0.0,>=2.7.4 in /opt/anaconda3/lib/python3.12/site-packages (from langchain) (2.8.2)\n",
      "Requirement already satisfied: SQLAlchemy<3,>=1.4 in /opt/anaconda3/lib/python3.12/site-packages (from langchain) (2.0.34)\n",
      "Requirement already satisfied: requests<3,>=2 in /opt/anaconda3/lib/python3.12/site-packages (from langchain) (2.32.3)\n",
      "Requirement already satisfied: PyYAML>=5.3 in /opt/anaconda3/lib/python3.12/site-packages (from langchain) (6.0.1)\n",
      "Requirement already satisfied: tenacity!=8.4.0,<10.0.0,>=8.1.0 in /opt/anaconda3/lib/python3.12/site-packages (from langchain-core<1.0.0,>=0.3.51->langchain) (8.2.3)\n",
      "Requirement already satisfied: jsonpatch<2.0,>=1.33 in /opt/anaconda3/lib/python3.12/site-packages (from langchain-core<1.0.0,>=0.3.51->langchain) (1.33)\n",
      "Requirement already satisfied: packaging<25,>=23.2 in /opt/anaconda3/lib/python3.12/site-packages (from langchain-core<1.0.0,>=0.3.51->langchain) (24.1)\n",
      "Requirement already satisfied: typing-extensions>=4.7 in /opt/anaconda3/lib/python3.12/site-packages (from langchain-core<1.0.0,>=0.3.51->langchain) (4.11.0)\n",
      "Requirement already satisfied: httpx<1,>=0.23.0 in /opt/anaconda3/lib/python3.12/site-packages (from langsmith<0.4,>=0.1.17->langchain) (0.27.0)\n",
      "Requirement already satisfied: orjson<4.0.0,>=3.9.14 in /opt/anaconda3/lib/python3.12/site-packages (from langsmith<0.4,>=0.1.17->langchain) (3.10.15)\n",
      "Requirement already satisfied: requests-toolbelt<2.0.0,>=1.0.0 in /opt/anaconda3/lib/python3.12/site-packages (from langsmith<0.4,>=0.1.17->langchain) (1.0.0)\n",
      "Requirement already satisfied: zstandard<0.24.0,>=0.23.0 in /opt/anaconda3/lib/python3.12/site-packages (from langsmith<0.4,>=0.1.17->langchain) (0.23.0)\n",
      "Requirement already satisfied: annotated-types>=0.4.0 in /opt/anaconda3/lib/python3.12/site-packages (from pydantic<3.0.0,>=2.7.4->langchain) (0.6.0)\n",
      "Requirement already satisfied: pydantic-core==2.20.1 in /opt/anaconda3/lib/python3.12/site-packages (from pydantic<3.0.0,>=2.7.4->langchain) (2.20.1)\n",
      "Requirement already satisfied: six>=1.5 in /opt/anaconda3/lib/python3.12/site-packages (from python-dateutil>=2.8.2->pandas) (1.16.0)\n",
      "Requirement already satisfied: charset-normalizer<4,>=2 in /opt/anaconda3/lib/python3.12/site-packages (from requests<3,>=2->langchain) (3.3.2)\n",
      "Requirement already satisfied: idna<4,>=2.5 in /opt/anaconda3/lib/python3.12/site-packages (from requests<3,>=2->langchain) (3.7)\n",
      "Requirement already satisfied: urllib3<3,>=1.21.1 in /opt/anaconda3/lib/python3.12/site-packages (from requests<3,>=2->langchain) (2.2.3)\n",
      "Requirement already satisfied: certifi>=2017.4.17 in /opt/anaconda3/lib/python3.12/site-packages (from requests<3,>=2->langchain) (2025.1.31)\n",
      "Requirement already satisfied: anyio in /opt/anaconda3/lib/python3.12/site-packages (from httpx<1,>=0.23.0->langsmith<0.4,>=0.1.17->langchain) (4.2.0)\n",
      "Requirement already satisfied: httpcore==1.* in /opt/anaconda3/lib/python3.12/site-packages (from httpx<1,>=0.23.0->langsmith<0.4,>=0.1.17->langchain) (1.0.2)\n",
      "Requirement already satisfied: sniffio in /opt/anaconda3/lib/python3.12/site-packages (from httpx<1,>=0.23.0->langsmith<0.4,>=0.1.17->langchain) (1.3.0)\n",
      "Requirement already satisfied: h11<0.15,>=0.13 in /opt/anaconda3/lib/python3.12/site-packages (from httpcore==1.*->httpx<1,>=0.23.0->langsmith<0.4,>=0.1.17->langchain) (0.14.0)\n",
      "Requirement already satisfied: jsonpointer>=1.9 in /opt/anaconda3/lib/python3.12/site-packages (from jsonpatch<2.0,>=1.33->langchain-core<1.0.0,>=0.3.51->langchain) (2.1)\n",
      "Note: you may need to restart the kernel to use updated packages.\n"
     ]
    }
   ],
   "source": [
    "pip install pandas scikit-learn langchain\n"
   ]
  },
  {
   "cell_type": "code",
   "execution_count": 4,
   "id": "1f52d19d-c419-47df-9dda-6cff9ff5af73",
   "metadata": {},
   "outputs": [],
   "source": [
    "import pandas as pd\n",
    "import re\n",
    "import json\n",
    "from sklearn.linear_model import LinearRegression\n",
    "from sklearn.metrics import r2_score\n",
    "from langchain.tools import Tool"
   ]
  },
  {
   "cell_type": "code",
   "execution_count": 5,
   "id": "50c69e5b-af97-4da5-82a7-5fea52b6c0ad",
   "metadata": {},
   "outputs": [],
   "source": [
    "# Extract target and feature from query\n",
    "def extract_columns_from_query(query, df_columns):\n",
    "    found_columns = []\n",
    "    for col in df_columns:\n",
    "        if re.search(rf\"\\b{re.escape(col)}\\b\", query, re.IGNORECASE):\n",
    "            found_columns.append(col)\n",
    "    return found_columns[:2] if len(found_columns) >= 2 else (None, None)\n",
    "\n",
    "# Run regression\n",
    "def run_linear_regression(df, target, feature):\n",
    "    df = df[[feature, target]].dropna()\n",
    "    X = df[[feature]]\n",
    "    y = df[target]\n",
    "\n",
    "    model = LinearRegression()\n",
    "    model.fit(X, y)\n",
    "\n",
    "    r2 = r2_score(y, model.predict(X))\n",
    "    intercept = model.intercept_\n",
    "    coef = model.coef_[0]\n",
    "    return {\n",
    "        \"equation\": f\"{target} = {coef:.4f} * {feature} + {intercept:.4f}\",\n",
    "        \"r2_score\": r2\n",
    "    }\n"
   ]
  },
  {
   "cell_type": "code",
   "execution_count": 17,
   "id": "8f01eb46-7f42-40a6-9b8a-5d84b485267f",
   "metadata": {},
   "outputs": [],
   "source": [
    "def regression_tool_logic(json_input):\n",
    "    inputs = json.loads(json_input)\n",
    "    file_path = inputs[\"file_path\"]\n",
    "    query = inputs[\"query\"]\n",
    "\n",
    "    if file_path.endswith(\".csv\"):\n",
    "        df = pd.read_csv(file_path)\n",
    "    elif file_path.endswith(\".json\"):\n",
    "        df = pd.read_json(file_path)\n",
    "    else:\n",
    "        return \"Unsupported file format. Only .csv and .json are supported.\"\n",
    "\n",
    "    target, feature = extract_columns_from_query(query, df.columns)\n",
    "    if not target or not feature:\n",
    "        return f\"Could not extract two valid columns from query: '{query}'\"\n",
    "\n",
    "    try:\n",
    "        result = run_linear_regression(df, target, feature)\n",
    "        return f\"✅ Regression Equation: {result['equation']}\\n📊 R² Score: {result['r2_score']:.4f}\"\n",
    "    except Exception as e:\n",
    "        return f\"Error while performing regression: {str(e)}\""
   ]
  },
  {
   "cell_type": "code",
   "execution_count": 19,
   "id": "badd018e-55d9-476a-93fb-45d5dde89ed0",
   "metadata": {},
   "outputs": [],
   "source": [
    "linear_regression_tool = Tool.from_function(\n",
    "    name=\"linear_regression_tool\",\n",
    "    description=\"Performs linear regression between two columns from a CSV or JSON dataset based on user query.\",\n",
    "    func=regression_tool_logic\n",
    ")"
   ]
  },
  {
   "cell_type": "code",
   "execution_count": 21,
   "id": "ab0dccc6-7945-4328-b77d-d821a8858499",
   "metadata": {},
   "outputs": [],
   "source": [
    "from langchain.agents import initialize_agent, AgentType\n",
    "from langchain.agents import Tool\n",
    "#from regression_tool import linear_regression_tool"
   ]
  },
  {
   "cell_type": "code",
   "execution_count": 23,
   "id": "7d7bcc66-9b64-4f20-b1d9-06b8c104abfd",
   "metadata": {},
   "outputs": [],
   "source": [
    "tools = [linear_regression_tool]\n"
   ]
  },
  {
   "cell_type": "code",
   "execution_count": 25,
   "id": "dff62a96-1fcd-4d9a-b0c7-f46b1ff044ec",
   "metadata": {},
   "outputs": [
    {
     "name": "stderr",
     "output_type": "stream",
     "text": [
      "/var/folders/jy/ggx46vz10978q8yfpqhpg4lh0000gp/T/ipykernel_5000/1431667125.py:1: LangChainDeprecationWarning: LangChain agents will continue to be supported, but it is recommended for new use cases to be built with LangGraph. LangGraph offers a more flexible and full-featured framework for building agents, including support for tool-calling, persistence of state, and human-in-the-loop workflows. For details, refer to the `LangGraph documentation <https://langchain-ai.github.io/langgraph/>`_ as well as guides for `Migrating from AgentExecutor <https://python.langchain.com/docs/how_to/migrate_agent/>`_ and LangGraph's `Pre-built ReAct agent <https://langchain-ai.github.io/langgraph/how-tos/create-react-agent/>`_.\n",
      "  agent = initialize_agent(\n"
     ]
    }
   ],
   "source": [
    "agent = initialize_agent(\n",
    "    tools=tools,\n",
    "    llm=llm,\n",
    "    agent=AgentType.ZERO_SHOT_REACT_DESCRIPTION,\n",
    "    verbose=True,\n",
    ")\n"
   ]
  },
  {
   "cell_type": "code",
   "execution_count": 27,
   "id": "b3509d26-9b4f-4a0e-ad4c-22c68a515915",
   "metadata": {},
   "outputs": [
    {
     "name": "stderr",
     "output_type": "stream",
     "text": [
      "/var/folders/jy/ggx46vz10978q8yfpqhpg4lh0000gp/T/ipykernel_5000/193485495.py:7: LangChainDeprecationWarning: The method `Chain.run` was deprecated in langchain 0.1.0 and will be removed in 1.0. Use :meth:`~invoke` instead.\n",
      "  response = agent.run(f\"Use linear_regression_tool with this input: {json_input}\")\n"
     ]
    },
    {
     "name": "stdout",
     "output_type": "stream",
     "text": [
      "\n",
      "\n",
      "\u001b[1m> Entering new AgentExecutor chain...\u001b[0m\n",
      "\u001b[32;1m\u001b[1;3m<think>\n",
      "Okay, I need to use the linear_regression_tool with the given input. The input is a JSON object that specifies the file path as \"assignment_data.csv\" and the query as \"Predict orders_all_np based on DisplayAll_spend\". \n",
      "\n",
      "First, I should understand what the tool does. It performs linear regression between two columns from a dataset. The file is a CSV, but the tool accepts either CSV or JSON, so that's fine. \n",
      "\n",
      "The query asks to predict \"orders_all_np\" using \"DisplayAll_spend\". So, the dependent variable is orders_all_np, and the independent variable is DisplayAll_spend.\n",
      "\n",
      "I should structure the JSON input correctly. The keys are \"file_path\" and \"query\". I need to make sure the file path is correct and that the columns exist in the dataset.\n",
      "\n",
      "I don't have the actual data, but assuming the tool can handle it, I'll proceed. The tool will calculate the regression coefficients and possibly the R-squared value.\n",
      "\n",
      "Once I run the tool, it should provide the regression equation and maybe some metrics on how well the model fits the data. I can then use this information to make predictions or analyze the relationship.\n",
      "\n",
      "I should also consider any potential issues, like missing data or non-linear relationships, but without the data, I can't check that. I'll assume the data is clean and suitable for linear regression.\n",
      "\n",
      "So, the action is to call the linear_regression_tool with the provided JSON input. The tool will process the data and return the results, which I can then interpret.\n",
      "</think>\n",
      "\n",
      "To predict \"orders_all_np\" based on \"DisplayAll_spend\" using the linear regression tool, I will execute the tool with the provided JSON input.\n",
      "\n",
      "Action: linear_regression_tool  \n",
      "Action Input: {\"file_path\": \"assignment_data.csv\", \"query\": \"Predict orders_all_np based on DisplayAll_spend\"}\u001b[0m\n",
      "Observation: \u001b[36;1m\u001b[1;3m✅ Regression Equation: orders_all_np = 0.0222 * DisplayAll_spend + 1587.4420\n",
      "📊 R² Score: 0.0109\u001b[0m\n",
      "Thought:\u001b[32;1m\u001b[1;3m\n",
      "The model's R-squared score is quite low at 0.0109, indicating that DisplayAll_spend explains only a small portion of the variance in orders_all_np. This suggests that other factors might be influencing orders_all_np and that a linear model might not be the best fit here.\n",
      "\n",
      "Final Answer: The linear regression model predicts orders_all_np as 0.0222 times DisplayAll_spend plus 1587.44, with an R-squared score of 0.0109. This low R-squared suggests a weak relationship, indicating other factors may be influencing orders_all_np.\u001b[0m\n",
      "\n",
      "\u001b[1m> Finished chain.\u001b[0m\n",
      "The linear regression model predicts orders_all_np as 0.0222 times DisplayAll_spend plus 1587.44, with an R-squared score of 0.0109. This low R-squared suggests a weak relationship, indicating other factors may be influencing orders_all_np.\n"
     ]
    }
   ],
   "source": [
    "import json\n",
    "\n",
    "query = \"Predict orders_all_np based on DisplayAll_spend\"\n",
    "file_path = \"assignment_data.csv\"  # or .json\n",
    "json_input = json.dumps({\"file_path\": file_path, \"query\": query})\n",
    "\n",
    "response = agent.run(f\"Use linear_regression_tool with this input: {json_input}\")\n",
    "print(response)\n",
    "\n"
   ]
  },
  {
   "cell_type": "code",
   "execution_count": null,
   "id": "e24f3bd4-f00b-4c0e-848b-ecadd8bd3e2b",
   "metadata": {},
   "outputs": [],
   "source": []
  }
 ],
 "metadata": {
  "kernelspec": {
   "display_name": "Python [conda env:base] *",
   "language": "python",
   "name": "conda-base-py"
  },
  "language_info": {
   "codemirror_mode": {
    "name": "ipython",
    "version": 3
   },
   "file_extension": ".py",
   "mimetype": "text/x-python",
   "name": "python",
   "nbconvert_exporter": "python",
   "pygments_lexer": "ipython3",
   "version": "3.12.7"
  }
 },
 "nbformat": 4,
 "nbformat_minor": 5
}
